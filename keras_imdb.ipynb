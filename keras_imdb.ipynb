{
  "nbformat": 4,
  "nbformat_minor": 0,
  "metadata": {
    "colab": {
      "name": "keras-imdb.ipynb",
      "provenance": [],
      "authorship_tag": "ABX9TyMG9BMFwjuLRHyAjgYcptNA",
      "include_colab_link": true
    },
    "kernelspec": {
      "display_name": "Python 3",
      "name": "python3"
    }
  },
  "cells": [
    {
      "cell_type": "markdown",
      "metadata": {
        "id": "view-in-github",
        "colab_type": "text"
      },
      "source": [
        "<a href=\"https://colab.research.google.com/github/ktyingith/test/blob/main/keras_imdb.ipynb\" target=\"_parent\"><img src=\"https://colab.research.google.com/assets/colab-badge.svg\" alt=\"Open In Colab\"/></a>"
      ]
    },
    {
      "cell_type": "markdown",
      "metadata": {
        "id": "Fva70dLVwez0"
      },
      "source": [
        "###IMDB 데이터셋 로드하기###"
      ]
    },
    {
      "cell_type": "code",
      "metadata": {
        "colab": {
          "base_uri": "https://localhost:8080/"
        },
        "id": "D0IKPfzHwZ1R",
        "outputId": "217c03ef-d413-4d8c-e9c4-8e448f7da065"
      },
      "source": [
        "NUM_WORDS = 10000\n",
        "\n",
        "from keras.datasets import imdb\n",
        "(train_data, train_labels), (test_data, test_labels) = imdb.load_data(num_words=NUM_WORDS)\n",
        "word_index = imdb.get_word_index()\n",
        "revers_word_index = dict( [(value, key) for (key, value) in word_index.items()])\n"
      ],
      "execution_count": null,
      "outputs": [
        {
          "output_type": "stream",
          "text": [
            "Downloading data from https://storage.googleapis.com/tensorflow/tf-keras-datasets/imdb.npz\n",
            "17465344/17464789 [==============================] - 1s 0us/step\n"
          ],
          "name": "stdout"
        },
        {
          "output_type": "stream",
          "text": [
            "<string>:6: VisibleDeprecationWarning: Creating an ndarray from ragged nested sequences (which is a list-or-tuple of lists-or-tuples-or ndarrays with different lengths or shapes) is deprecated. If you meant to do this, you must specify 'dtype=object' when creating the ndarray\n",
            "/usr/local/lib/python3.7/dist-packages/tensorflow/python/keras/datasets/imdb.py:159: VisibleDeprecationWarning: Creating an ndarray from ragged nested sequences (which is a list-or-tuple of lists-or-tuples-or ndarrays with different lengths or shapes) is deprecated. If you meant to do this, you must specify 'dtype=object' when creating the ndarray\n",
            "  x_train, y_train = np.array(xs[:idx]), np.array(labels[:idx])\n"
          ],
          "name": "stderr"
        },
        {
          "output_type": "stream",
          "text": [
            "Downloading data from https://storage.googleapis.com/tensorflow/tf-keras-datasets/imdb_word_index.json\n",
            "1646592/1641221 [==============================] - 0s 0us/step\n"
          ],
          "name": "stdout"
        },
        {
          "output_type": "stream",
          "text": [
            "/usr/local/lib/python3.7/dist-packages/tensorflow/python/keras/datasets/imdb.py:160: VisibleDeprecationWarning: Creating an ndarray from ragged nested sequences (which is a list-or-tuple of lists-or-tuples-or ndarrays with different lengths or shapes) is deprecated. If you meant to do this, you must specify 'dtype=object' when creating the ndarray\n",
            "  x_test, y_test = np.array(xs[idx:]), np.array(labels[idx:])\n"
          ],
          "name": "stderr"
        }
      ]
    },
    {
      "cell_type": "code",
      "metadata": {
        "id": "_DKx_EhZIH7Z"
      },
      "source": [
        "import numpy as np\n",
        "\n",
        "def printts(prefix, tensor) :\n",
        "  print(\"{} type:{} rank:{} size:{} shape:{}\".format(\n",
        "        prefix, tensor.dtype, tensor.ndim, tensor.size, tensor.shape))\n",
        "  print(\"{}\".format(tensor[0]))\n",
        "\n",
        "def vectorize_sequences(sequences, dimension=NUM_WORDS) :\n",
        "  results = np.zeros( (len(sequences), dimension) )\n",
        "  for i, sequence in enumerate(sequences) :\n",
        "    results[i, sequence] = 1\n",
        "  return results"
      ],
      "execution_count": null,
      "outputs": []
    },
    {
      "cell_type": "code",
      "metadata": {
        "colab": {
          "base_uri": "https://localhost:8080/"
        },
        "id": "4Fg0qw6IxNZe",
        "outputId": "fa1fc8b8-7814-48a1-a794-f8727230718e"
      },
      "source": [
        "printts(\"train_data\", train_data)\n",
        "printts(\"train_labels\", train_labels)\n",
        "\n",
        "assert max( [ max(item) for item in train_data ] ) < NUM_WORDS\n",
        "decoded_review = ' '.join( [revers_word_index.get(i - 3, \"?\") for i in train_data[0] ] )\n",
        "print(decoded_review)\n",
        "\n",
        "x_train = vectorize_sequences(train_data)\n",
        "x_test = vectorize_sequences(test_data)\n",
        "y_train = np.asarray(train_labels).astype('float32')\n",
        "y_test = np.asarray(test_labels).astype('float32')\n",
        "\n",
        "x_val = x_train[:10000]\n",
        "partial_x_train = x_train[10000:]\n",
        "y_val = y_train[:10000]\n",
        "partial_y_train = y_train[10000:]"
      ],
      "execution_count": null,
      "outputs": [
        {
          "output_type": "stream",
          "text": [
            "train_data type:object rank:1 size:25000 shape:(25000,)\n",
            "[1, 14, 22, 16, 43, 530, 973, 1622, 1385, 65, 458, 4468, 66, 3941, 4, 173, 36, 256, 5, 25, 100, 43, 838, 112, 50, 670, 2, 9, 35, 480, 284, 5, 150, 4, 172, 112, 167, 2, 336, 385, 39, 4, 172, 4536, 1111, 17, 546, 38, 13, 447, 4, 192, 50, 16, 6, 147, 2025, 19, 14, 22, 4, 1920, 4613, 469, 4, 22, 71, 87, 12, 16, 43, 530, 38, 76, 15, 13, 1247, 4, 22, 17, 515, 17, 12, 16, 626, 18, 2, 5, 62, 386, 12, 8, 316, 8, 106, 5, 4, 2223, 5244, 16, 480, 66, 3785, 33, 4, 130, 12, 16, 38, 619, 5, 25, 124, 51, 36, 135, 48, 25, 1415, 33, 6, 22, 12, 215, 28, 77, 52, 5, 14, 407, 16, 82, 2, 8, 4, 107, 117, 5952, 15, 256, 4, 2, 7, 3766, 5, 723, 36, 71, 43, 530, 476, 26, 400, 317, 46, 7, 4, 2, 1029, 13, 104, 88, 4, 381, 15, 297, 98, 32, 2071, 56, 26, 141, 6, 194, 7486, 18, 4, 226, 22, 21, 134, 476, 26, 480, 5, 144, 30, 5535, 18, 51, 36, 28, 224, 92, 25, 104, 4, 226, 65, 16, 38, 1334, 88, 12, 16, 283, 5, 16, 4472, 113, 103, 32, 15, 16, 5345, 19, 178, 32]\n",
            "train_labels type:int64 rank:1 size:25000 shape:(25000,)\n",
            "1\n",
            "? this film was just brilliant casting location scenery story direction everyone's really suited the part they played and you could just imagine being there robert ? is an amazing actor and now the same being director ? father came from the same scottish island as myself so i loved the fact there was a real connection with this film the witty remarks throughout the film were great it was just brilliant so much that i bought the film as soon as it was released for ? and would recommend it to everyone to watch and the fly fishing was amazing really cried at the end it was so sad and you know what they say if you cry at a film it must have been good and this definitely was also ? to the two little boy's that played the ? of norman and paul they were just brilliant children are often left out of the ? list i think because the stars that play them all grown up are such a big profile for the whole film but these children are amazing and should be praised for what they have done don't you think the whole story was so lovely because it was true and was someone's life after all that was shared with us all\n"
          ],
          "name": "stdout"
        }
      ]
    },
    {
      "cell_type": "code",
      "metadata": {
        "colab": {
          "base_uri": "https://localhost:8080/"
        },
        "id": "-QzwLLnX0k0V",
        "outputId": "14075dba-5876-45da-b33f-8d558406d8f2"
      },
      "source": [
        "printts(\"x_train\", x_train)\n",
        "printts(\"y_train\", y_train)"
      ],
      "execution_count": null,
      "outputs": [
        {
          "output_type": "stream",
          "text": [
            "x_train type:float64 rank:2 size:250000000 shape:(25000, 10000)\n",
            "[0. 1. 1. ... 0. 0. 0.]\n",
            "y_train type:float32 rank:1 size:25000 shape:(25000,)\n",
            "1.0\n"
          ],
          "name": "stdout"
        }
      ]
    },
    {
      "cell_type": "code",
      "metadata": {
        "colab": {
          "base_uri": "https://localhost:8080/"
        },
        "id": "Xv29lL6MSnWJ",
        "outputId": "6e679da8-1a9a-495a-fe30-017505a7d619"
      },
      "source": [
        "from keras import models\n",
        "from keras import layers\n",
        "\n",
        "model = models.Sequential()\n",
        "model.add( layers.Dense(16, activation='relu', input_shape=(NUM_WORDS,)) )\n",
        "model.add( layers.Dense(16, activation='relu'))\n",
        "model.add( layers.Dense(1, activation='sigmoid') )\n",
        "model.compile(optimizer='rmsprop', loss='binary_crossentropy', metrics=['acc'])\n",
        "\n",
        "history = model.fit(partial_x_train, partial_y_train, epochs=20, batch_size=512, validation_data=(x_val, y_val))"
      ],
      "execution_count": null,
      "outputs": [
        {
          "output_type": "stream",
          "text": [
            "Epoch 1/20\n",
            "30/30 [==============================] - 2s 41ms/step - loss: 0.5912 - acc: 0.7019 - val_loss: 0.3893 - val_acc: 0.8688\n",
            "Epoch 2/20\n",
            "30/30 [==============================] - 1s 22ms/step - loss: 0.3225 - acc: 0.9074 - val_loss: 0.3033 - val_acc: 0.8891\n",
            "Epoch 3/20\n",
            "30/30 [==============================] - 1s 22ms/step - loss: 0.2292 - acc: 0.9303 - val_loss: 0.2793 - val_acc: 0.8897\n",
            "Epoch 4/20\n",
            "30/30 [==============================] - 1s 22ms/step - loss: 0.1737 - acc: 0.9449 - val_loss: 0.2738 - val_acc: 0.8888\n",
            "Epoch 5/20\n",
            "30/30 [==============================] - 1s 23ms/step - loss: 0.1420 - acc: 0.9573 - val_loss: 0.3043 - val_acc: 0.8803\n",
            "Epoch 6/20\n",
            "30/30 [==============================] - 1s 22ms/step - loss: 0.1137 - acc: 0.9667 - val_loss: 0.3021 - val_acc: 0.8847\n",
            "Epoch 7/20\n",
            "30/30 [==============================] - 1s 23ms/step - loss: 0.0957 - acc: 0.9724 - val_loss: 0.3138 - val_acc: 0.8817\n",
            "Epoch 8/20\n",
            "30/30 [==============================] - 1s 22ms/step - loss: 0.0781 - acc: 0.9793 - val_loss: 0.3447 - val_acc: 0.8744\n",
            "Epoch 9/20\n",
            "30/30 [==============================] - 1s 22ms/step - loss: 0.0673 - acc: 0.9817 - val_loss: 0.3646 - val_acc: 0.8735\n",
            "Epoch 10/20\n",
            "30/30 [==============================] - 1s 22ms/step - loss: 0.0552 - acc: 0.9868 - val_loss: 0.3914 - val_acc: 0.8763\n",
            "Epoch 11/20\n",
            "30/30 [==============================] - 1s 22ms/step - loss: 0.0412 - acc: 0.9910 - val_loss: 0.4261 - val_acc: 0.8674\n",
            "Epoch 12/20\n",
            "30/30 [==============================] - 1s 22ms/step - loss: 0.0342 - acc: 0.9942 - val_loss: 0.4586 - val_acc: 0.8713\n",
            "Epoch 13/20\n",
            "30/30 [==============================] - 1s 23ms/step - loss: 0.0267 - acc: 0.9956 - val_loss: 0.4990 - val_acc: 0.8676\n",
            "Epoch 14/20\n",
            "30/30 [==============================] - 1s 23ms/step - loss: 0.0198 - acc: 0.9972 - val_loss: 0.4939 - val_acc: 0.8709\n",
            "Epoch 15/20\n",
            "30/30 [==============================] - 1s 23ms/step - loss: 0.0170 - acc: 0.9975 - val_loss: 0.5267 - val_acc: 0.8710\n",
            "Epoch 16/20\n",
            "30/30 [==============================] - 1s 23ms/step - loss: 0.0115 - acc: 0.9991 - val_loss: 0.5560 - val_acc: 0.8688\n",
            "Epoch 17/20\n",
            "30/30 [==============================] - 1s 22ms/step - loss: 0.0087 - acc: 0.9993 - val_loss: 0.5855 - val_acc: 0.8684\n",
            "Epoch 18/20\n",
            "30/30 [==============================] - 1s 23ms/step - loss: 0.0060 - acc: 0.9999 - val_loss: 0.6171 - val_acc: 0.8673\n",
            "Epoch 19/20\n",
            "30/30 [==============================] - 1s 22ms/step - loss: 0.0071 - acc: 0.9989 - val_loss: 0.6505 - val_acc: 0.8657\n",
            "Epoch 20/20\n",
            "30/30 [==============================] - 1s 22ms/step - loss: 0.0041 - acc: 0.9998 - val_loss: 0.6816 - val_acc: 0.8664\n"
          ],
          "name": "stdout"
        }
      ]
    },
    {
      "cell_type": "code",
      "metadata": {
        "colab": {
          "base_uri": "https://localhost:8080/",
          "height": 295
        },
        "id": "rSWbTh5Kle1c",
        "outputId": "e3605af3-8d46-421f-ce04-cd061123c8fe"
      },
      "source": [
        "history_dict = history.history\n",
        "history_dict.keys()\n",
        "\n",
        "import matplotlib.pyplot as plt\n",
        "loss = history_dict['loss']\n",
        "val_loss = history_dict['val_loss']\n",
        "epochs = range(1, len(loss) + 1)\n",
        "\n",
        "plt.plot(epochs, loss, 'bo', label='Training loss')\n",
        "plt.plot(epochs, val_loss, 'b', label='Validation loss')\n",
        "plt.title('Training and validation loss')\n",
        "plt.xlabel('Epochs')\n",
        "plt.ylabel('Loss')\n",
        "plt.legend()\n",
        "plt.show()"
      ],
      "execution_count": null,
      "outputs": [
        {
          "output_type": "display_data",
          "data": {
            "image/png": "[encoded data removed]",
            "text/plain": [
              "<Figure size 432x288 with 1 Axes>"
            ]
          },
          "metadata": {
            "tags": [],
            "needs_background": "light"
          }
        }
      ]
    },
    {
      "cell_type": "code",
      "metadata": {
        "colab": {
          "base_uri": "https://localhost:8080/",
          "height": 295
        },
        "id": "KISXSOmhm3st",
        "outputId": "fe4a0cd7-ec38-4022-dd4f-3008d13479bd"
      },
      "source": [
        "plt.clf()\n",
        "acc = history_dict['acc']\n",
        "val_acc = history_dict['val_acc']\n",
        "plt.plot(epochs, acc, 'bo', label='Training acc')\n",
        "plt.plot(epochs, val_acc, 'b', label='Validation acc')\n",
        "plt.title('Training and validation accuracy')\n",
        "plt.xlabel('Epochs')\n",
        "plt.ylabel('Accuracy')\n",
        "plt.legend()\n",
        "plt.show()"
      ],
      "execution_count": null,
      "outputs": [
        {
          "output_type": "display_data",
          "data": {
            "image/png": "[encoded data removed]",
            "text/plain": [
              "<Figure size 432x288 with 1 Axes>"
            ]
          },
          "metadata": {
            "tags": [],
            "needs_background": "light"
          }
        }
      ]
    },
    {
      "cell_type": "code",
      "metadata": {
        "colab": {
          "base_uri": "https://localhost:8080/"
        },
        "id": "mv8VYEhHoaiY",
        "outputId": "8cd8dc94-1139-4eef-a0b2-a463a070676c"
      },
      "source": [
        "model = models.Sequential()\n",
        "model.add( layers.Dense(32, activation='relu', input_shape=(NUM_WORDS,)) )\n",
        "model.add( layers.Dense(32, activation='relu'))\n",
        "model.add( layers.Dense(1, activation='sigmoid') )\n",
        "model.compile(optimizer='rmsprop', loss='binary_crossentropy', metrics=['accuracy'])\n",
        "\n",
        "history = model.fit(x_train, y_train, epochs=3, batch_size=512)\n",
        "results = model.evaluate(x_test, y_test)\n",
        "print( results )"
      ],
      "execution_count": null,
      "outputs": [
        {
          "output_type": "stream",
          "text": [
            "Epoch 1/3\n",
            "49/49 [==============================] - 2s 23ms/step - loss: 0.5352 - accuracy: 0.7330\n",
            "Epoch 2/3\n",
            "49/49 [==============================] - 1s 22ms/step - loss: 0.2501 - accuracy: 0.9147\n",
            "Epoch 3/3\n",
            "49/49 [==============================] - 1s 22ms/step - loss: 0.1864 - accuracy: 0.9332\n",
            "782/782 [==============================] - 1s 2ms/step - loss: 0.2874 - accuracy: 0.8861\n",
            "[0.2873966097831726, 0.8861200213432312]\n"
          ],
          "name": "stdout"
        }
      ]
    },
    {
      "cell_type": "code",
      "metadata": {
        "id": "8n9oEwDKoxvm",
        "colab": {
          "base_uri": "https://localhost:8080/"
        },
        "outputId": "3580f697-22ef-471c-a4ef-2a46b5f0ddaf"
      },
      "source": [
        "\n",
        "\n",
        "model.predict(x_test)"
      ],
      "execution_count": null,
      "outputs": [
        {
          "output_type": "execute_result",
          "data": {
            "text/plain": [
              "array([[0.24562484],\n",
              "       [0.99961746],\n",
              "       [0.8482491 ],\n",
              "       ...,\n",
              "       [0.1557512 ],\n",
              "       [0.07787749],\n",
              "       [0.55669814]], dtype=float32)"
            ]
          },
          "metadata": {
            "tags": []
          },
          "execution_count": 9
        }
      ]
    },
    {
      "cell_type": "markdown",
      "metadata": {
        "id": "Dy792G0Owd6r"
      },
      "source": [
        ""
      ]
    }
  ]
}