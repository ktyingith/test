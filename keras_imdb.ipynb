{
  "nbformat": 4,
  "nbformat_minor": 0,
  "metadata": {
    "colab": {
      "name": "keras-imdb.ipynb",
      "provenance": [],
      "collapsed_sections": [],
      "authorship_tag": "ABX9TyPI5RlJeeC82iOIsSaQZs3x",
      "include_colab_link": true
    },
    "kernelspec": {
      "display_name": "Python 3",
      "name": "python3"
    }
  },
  "cells": [
    {
      "cell_type": "markdown",
      "metadata": {
        "id": "view-in-github",
        "colab_type": "text"
      },
      "source": [
        "<a href=\"https://colab.research.google.com/github/ktyingith/test/blob/main/keras_imdb.ipynb\" target=\"_parent\"><img src=\"https://colab.research.google.com/assets/colab-badge.svg\" alt=\"Open In Colab\"/></a>"
      ]
    },
    {
      "cell_type": "markdown",
      "metadata": {
        "id": "Fva70dLVwez0"
      },
      "source": [
        "###IMDB 데이터셋 로드하기###"
      ]
    },
    {
      "cell_type": "code",
      "metadata": {
        "id": "D0IKPfzHwZ1R"
      },
      "source": [
        "NUM_WORDS = 10000\n",
        "\n",
        "from keras.datasets import imdb\n",
        "(train_data, train_labels), (test_data, test_labels) = imdb.load_data(num_words=NUM_WORDS)\n",
        "word_index = imdb.get_word_index()\n",
        "revers_word_index = dict( [(value, key) for (key, value) in word_index.items()])\n"
      ],
      "execution_count": null,
      "outputs": []
    },
    {
      "cell_type": "code",
      "metadata": {
        "id": "_DKx_EhZIH7Z"
      },
      "source": [
        "import numpy as np\n",
        "\n",
        "def printts(prefix, tensor) :\n",
        "  print(\"{} type:{} rank:{} size:{} shape:{}\".format(\n",
        "        prefix, tensor.dtype, tensor.ndim, tensor.size, tensor.shape))\n",
        "  print(\"{}\".format(tensor[0]))\n",
        "\n",
        "def vectorize_sequences(sequences, dimension=NUM_WORDS) :\n",
        "  results = np.zeros( (len(sequences), dimension) )\n",
        "  for i, sequence in enumerate(sequences) :\n",
        "    results[i, sequence] = 1\n",
        "  return results"
      ],
      "execution_count": null,
      "outputs": []
    },
    {
      "cell_type": "code",
      "metadata": {
        "id": "4Fg0qw6IxNZe"
      },
      "source": [
        "printts(\"train_data\", train_data)\n",
        "printts(\"train_labels\", train_labels)\n",
        "\n",
        "assert max( [ max(item) for item in train_data ] ) < NUM_WORDS\n",
        "decoded_review = ' '.join( [revers_word_index.get(i - 3, \"?\") for i in train_data[0] ] )\n",
        "print(decoded_review)\n",
        "\n",
        "x_train = vectorize_sequences(train_data)\n",
        "x_test = vectorize_sequences(test_data)\n",
        "y_train = np.asarray(train_labels).astype('float32')\n",
        "y_test = np.asarray(test_labels).astype('float32')\n",
        "\n",
        "x_val = x_train[:10000]\n",
        "partial_x_train = x_train[10000:]\n",
        "y_val = y_train[:10000]\n",
        "partial_y_train = y_train[10000:]"
      ],
      "execution_count": null,
      "outputs": []
    },
    {
      "cell_type": "code",
      "metadata": {
        "id": "-QzwLLnX0k0V"
      },
      "source": [
        "printts(\"x_train\", x_train)\n",
        "printts(\"y_train\", y_train)"
      ],
      "execution_count": null,
      "outputs": []
    },
    {
      "cell_type": "code",
      "metadata": {
        "id": "Xv29lL6MSnWJ"
      },
      "source": [
        "from keras import models\n",
        "from keras import layers\n",
        "\n",
        "model = models.Sequential()\n",
        "model.add( layers.Dense(16, activation='relu', input_shape=(NUM_WORDS,)) )\n",
        "model.add( layers.Dense(16, activation='relu'))\n",
        "model.add( layers.Dense(1, activation='sigmoid') )\n",
        "model.compile(optimizer='rmsprop', loss='binary_crossentropy', metrics=['acc'])\n",
        "\n",
        "history = model.fit(partial_x_train, partial_y_train, epochs=20, batch_size=512, validation_data=(x_val, y_val))"
      ],
      "execution_count": null,
      "outputs": []
    },
    {
      "cell_type": "code",
      "metadata": {
        "id": "rSWbTh5Kle1c"
      },
      "source": [
        "history_dict = history.history\n",
        "history_dict.keys()\n",
        "\n",
        "import matplotlib.pyplot as plt\n",
        "loss = history_dict['loss']\n",
        "val_loss = history_dict['val_loss']\n",
        "epochs = range(1, len(loss) + 1)\n",
        "\n",
        "plt.plot(epochs, loss, 'bo', label='Training loss')\n",
        "plt.plot(epochs, val_loss, 'b', label='Validation loss')\n",
        "plt.title('Training and validation loss')\n",
        "plt.xlabel('Epochs')\n",
        "plt.ylabel('Loss')\n",
        "plt.legend()\n",
        "plt.show()"
      ],
      "execution_count": null,
      "outputs": []
    },
    {
      "cell_type": "code",
      "metadata": {
        "id": "KISXSOmhm3st"
      },
      "source": [
        "plt.clf()\n",
        "acc = history_dict['acc']\n",
        "val_acc = history_dict['val_acc']\n",
        "plt.plot(epochs, acc, 'bo', label='Training acc')\n",
        "plt.plot(epochs, val_acc, 'b', label='Validation acc')\n",
        "plt.title('Training and validation accuracy')\n",
        "plt.xlabel('Epochs')\n",
        "plt.ylabel('Accuracy')\n",
        "plt.legend()\n",
        "plt.show()"
      ],
      "execution_count": null,
      "outputs": []
    },
    {
      "cell_type": "code",
      "metadata": {
        "id": "mv8VYEhHoaiY"
      },
      "source": [
        "model = models.Sequential()\n",
        "model.add( layers.Dense(32, activation='relu', input_shape=(NUM_WORDS,)) )\n",
        "model.add( layers.Dense(32, activation='relu'))\n",
        "model.add( layers.Dense(1, activation='sigmoid') )\n",
        "model.compile(optimizer='rmsprop', loss='binary_crossentropy', metrics=['accuracy'])\n",
        "\n",
        "history = model.fit(x_train, y_train, epochs=3, batch_size=512)\n",
        "results = model.evaluate(x_test, y_test)\n",
        "print( results )"
      ],
      "execution_count": null,
      "outputs": []
    },
    {
      "cell_type": "code",
      "metadata": {
        "id": "8n9oEwDKoxvm"
      },
      "source": [
        "model.predict(x_test)"
      ],
      "execution_count": null,
      "outputs": []
    }
  ]
}